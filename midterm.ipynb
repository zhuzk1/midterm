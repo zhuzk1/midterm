{
  "cells": [
    {
      "cell_type": "markdown",
      "metadata": {
        "id": "4lM2TiSeZJYD"
      },
      "source": [
        "# Libraries"
      ]
    },
    {
      "cell_type": "code",
      "execution_count": 1,
      "metadata": {
        "id": "iswGsO_KZJYE"
      },
      "outputs": [],
      "source": [
        "import pickle\n",
        "import pandas as pd\n",
        "import seaborn as sns\n",
        "from os.path import exists\n",
        "import matplotlib.pyplot as plt\n",
        "from sklearn.neighbors import KNeighborsClassifier\n",
        "from sklearn.model_selection import train_test_split\n",
        "from sklearn.metrics import accuracy_score, confusion_matrix"
      ]
    },
    {
      "cell_type": "markdown",
      "metadata": {
        "id": "M9QECZp0ZJYF"
      },
      "source": [
        "# Loading the Files\n",
        "\n",
        "Download the csv files into the `data/` directory."
      ]
    },
    {
      "cell_type": "code",
      "source": [
        "from google.colab import drive\n",
        "drive.mount('/content/drive')"
      ],
      "metadata": {
        "colab": {
          "base_uri": "https://localhost:8080/"
        },
        "id": "x8n5IgmmcJhA",
        "outputId": "7e6c9d26-3f4d-41ca-a129-39fbd9a429a0"
      },
      "execution_count": 2,
      "outputs": [
        {
          "output_type": "stream",
          "name": "stdout",
          "text": [
            "Drive already mounted at /content/drive; to attempt to forcibly remount, call drive.mount(\"/content/drive\", force_remount=True).\n"
          ]
        }
      ]
    },
    {
      "cell_type": "code",
      "execution_count": 3,
      "metadata": {
        "colab": {
          "base_uri": "https://localhost:8080/",
          "height": 1000
        },
        "id": "NL6ung1gZJYF",
        "outputId": "163dc734-68de-4cd2-dc12-b045d10310fe"
      },
      "outputs": [
        {
          "output_type": "stream",
          "name": "stdout",
          "text": [
            "train.csv shape is  (1697533, 9)\n",
            "test.csv shape is  (212192, 2)\n",
            "\n",
            "        Id   ProductId          UserId  HelpfulnessNumerator  \\\n",
            "0   914403  B0009W5KHM   AV6QDP8Q0ONK4                     2   \n",
            "1   354887  6303079709  A2I8RXJN80A2D2                     0   \n",
            "2  1407653  B004H0M2XC  A3FHV3RV8Z12E6                     0   \n",
            "3  1377458  B003ZJ9536  A12VLTA3ZHVPUY                     1   \n",
            "4   475323  630574453X  A13NM1PES9OXVN                     2   \n",
            "\n",
            "   HelpfulnessDenominator        Time  \\\n",
            "0                       2  1341014400   \n",
            "1                       0  1168819200   \n",
            "2                       0  1386201600   \n",
            "3                       1  1348704000   \n",
            "4                       3   970012800   \n",
            "\n",
            "                                         Summary  \\\n",
            "0                                  GOOD FUN FILM   \n",
            "1                                   Movie Review   \n",
            "2             When is it a good time to Consent?   \n",
            "3                                          TRUTH   \n",
            "4  Intelligent and bittersweet -- stays with you   \n",
            "\n",
            "                                                Text  Score  \n",
            "0  While most straight to DVD films are not worth...    5.0  \n",
            "1  I have wanted this one for sometime, also.  I ...    5.0  \n",
            "2  Actually this was a pretty darn good indie fil...    4.0  \n",
            "3  Episodes 37 to 72 of the series press on in a ...    5.0  \n",
            "4  I was really impressed with this movie, but wa...    3.0  \n",
            "\n",
            "        Id  Score\n",
            "0  1323432    NaN\n",
            "1  1137299    NaN\n",
            "2  1459366    NaN\n",
            "3   931601    NaN\n",
            "4  1311995    NaN\n",
            "\n",
            "                 Id  HelpfulnessNumerator  HelpfulnessDenominator  \\\n",
            "count  1.697533e+06          1.697533e+06            1.697533e+06   \n",
            "mean   8.487660e+05          3.569048e+00            5.301422e+00   \n",
            "std    4.900357e+05          1.727883e+01            2.024445e+01   \n",
            "min    0.000000e+00          0.000000e+00            0.000000e+00   \n",
            "25%    4.243830e+05          0.000000e+00            0.000000e+00   \n",
            "50%    8.487660e+05          1.000000e+00            1.000000e+00   \n",
            "75%    1.273149e+06          3.000000e+00            5.000000e+00   \n",
            "max    1.697532e+06          6.084000e+03            6.510000e+03   \n",
            "\n",
            "               Time         Score  \n",
            "count  1.697533e+06  1.485341e+06  \n",
            "mean   1.262422e+09  4.110517e+00  \n",
            "std    1.289277e+08  1.197651e+00  \n",
            "min    8.793792e+08  1.000000e+00  \n",
            "25%    1.164413e+09  4.000000e+00  \n",
            "50%    1.307491e+09  5.000000e+00  \n",
            "75%    1.373242e+09  5.000000e+00  \n",
            "max    1.406074e+09  5.000000e+00  \n"
          ]
        },
        {
          "output_type": "display_data",
          "data": {
            "text/plain": [
              "<Figure size 640x480 with 1 Axes>"
            ],
            "image/png": "[encoded data removed]"
          },
          "metadata": {}
        },
        {
          "output_type": "stream",
          "name": "stdout",
          "text": [
            "\n",
            "EVERYTHING IS PROPERLY SET UP! YOU ARE READY TO START\n"
          ]
        }
      ],
      "source": [
        "trainingSet = pd.read_csv(\"/content/drive/My Drive/Midterm/train.csv\")\n",
        "testingSet = pd.read_csv(\"/content/drive/My Drive/Midterm/test.csv\")\n",
        "\n",
        "print(\"train.csv shape is \", trainingSet.shape)\n",
        "print(\"test.csv shape is \", testingSet.shape)\n",
        "\n",
        "print()\n",
        "\n",
        "print(trainingSet.head())\n",
        "print()\n",
        "print(testingSet.head())\n",
        "\n",
        "print()\n",
        "\n",
        "print(trainingSet.describe())\n",
        "\n",
        "trainingSet['Score'].value_counts().plot(kind='bar', legend=True, alpha=.5)\n",
        "plt.show()\n",
        "\n",
        "print()\n",
        "print(\"EVERYTHING IS PROPERLY SET UP! YOU ARE READY TO START\")"
      ]
    },
    {
      "cell_type": "markdown",
      "metadata": {
        "id": "vdy9viQZZJYF"
      },
      "source": [
        "# Adding Features"
      ]
    },
    {
      "cell_type": "code",
      "execution_count": 4,
      "metadata": {
        "id": "174cwDyXZJYF"
      },
      "outputs": [],
      "source": [
        "def add_features_to(df):\n",
        "    df['Helpfulness'] = df['HelpfulnessNumerator'] / (df['HelpfulnessDenominator'] + 1)\n",
        "    df['Helpfulness'] = df['Helpfulness'].fillna(0)\n",
        "    df['Summary_Length'] = df['Summary'].str.len().fillna(0)\n",
        "    return df\n",
        "\n",
        "# Load the feature extracted files if they've already been generated\n",
        "if exists('/content/drive/My Drive/Midterm/X_train.csv'):\n",
        "    X_train = pd.read_csv(\"/content/drive/My Drive/Midterm/X_train.csv\")\n",
        "if exists('/content/drive/My Drive/Midterm/X_submission.csv'):\n",
        "    X_submission = pd.read_csv(\"/content/drive/My Drive/Midterm/X_submission.csv\")\n",
        "\n",
        "else:\n",
        "    # Process the DataFrame\n",
        "    train = add_features_to(trainingSet)\n",
        "\n",
        "    # Merge on Id so that the submission set can have feature columns as well\n",
        "    X_submission = pd.merge(train, testingSet, left_on='Id', right_on='Id')\n",
        "    X_submission = X_submission.drop(columns=['Score_x'])\n",
        "    X_submission = X_submission.rename(columns={'Score_y': 'Score'})\n",
        "\n",
        "    # The training set is where the score is not null\n",
        "    X_train =  train[train['Score'].notnull()]\n",
        "\n",
        "    X_submission.to_csv(\"/content/drive/My Drive/Midterm/X_submission.csv\", index=False)\n",
        "    X_train.to_csv(\"/content/drive/My Drive/Midterm/X_train.csv\", index=False)"
      ]
    },
    {
      "cell_type": "markdown",
      "metadata": {
        "id": "lVDYW6nJZJYG"
      },
      "source": [
        "# Sample + Split into training and testing set"
      ]
    },
    {
      "cell_type": "code",
      "execution_count": 5,
      "metadata": {
        "id": "YMiCaW9MZJYG"
      },
      "outputs": [],
      "source": [
        "# Split training set into training and testing set\n",
        "X_train, X_test, Y_train, Y_test = train_test_split(\n",
        "    X_train.drop(columns=['Score']),\n",
        "    X_train['Score'],\n",
        "    test_size=1/4.0,\n",
        "    random_state=0\n",
        ")"
      ]
    },
    {
      "cell_type": "markdown",
      "metadata": {
        "id": "q6Je6N7vZJYG"
      },
      "source": [
        "# Feature Selection"
      ]
    },
    {
      "cell_type": "code",
      "execution_count": 6,
      "metadata": {
        "id": "qsdRFSDqZJYG",
        "colab": {
          "base_uri": "https://localhost:8080/"
        },
        "outputId": "dcf1778f-c56e-432f-c89f-29b78b5ce188"
      },
      "outputs": [
        {
          "output_type": "stream",
          "name": "stdout",
          "text": [
            "8\n"
          ]
        }
      ],
      "source": [
        "from sklearn.feature_extraction.text import TfidfVectorizer\n",
        "from scipy.sparse import hstack, csr_matrix\n",
        "\n",
        "features = ['HelpfulnessNumerator', 'HelpfulnessDenominator', 'Time', 'Helpfulness', 'Summary_Length','Text']\n",
        "X_train_select = X_train[features].copy()\n",
        "X_test_select = X_test[features].copy()\n",
        "X_submission_select = X_submission[features].copy()\n",
        "\n",
        "\n",
        "X_train_select['Combined_Text'] = X_train['Summary'].fillna('') + ' ' + X_train['Text'].fillna('')\n",
        "X_test_select['Combined_Text'] = X_test['Summary'].fillna('') + ' ' + X_test['Text'].fillna('')\n",
        "X_submission_select['Combined_Text'] = X_submission['Summary'].fillna('') + ' ' + X_submission['Text'].fillna('')\n",
        "\n",
        "\n",
        "X_train_select['Length_Helpfulness'] = X_train_select['Summary_Length'] * X_train_select['Helpfulness']\n",
        "X_test_select['Length_Helpfulness'] = X_test_select['Summary_Length'] * X_test_select['Helpfulness']\n",
        "X_submission_select['Length_Helpfulness'] = X_submission_select['Summary_Length'] * X_submission_select['Helpfulness']\n",
        "\n",
        "\n",
        "vectorizer = TfidfVectorizer(max_features=2**18, stop_words='english', ngram_range=(1,2))\n",
        "\n",
        "\n",
        "X_train_text = vectorizer.fit_transform(X_train_select['Combined_Text'])\n",
        "X_test_text = vectorizer.transform(X_test_select['Combined_Text'])\n",
        "X_submission_text = vectorizer.transform(X_submission_select['Combined_Text'])\n",
        "\n",
        "\n",
        "X_train_help = csr_matrix(X_train_select[['Helpfulness', 'Length_Helpfulness']].fillna(0).values)\n",
        "X_test_help = csr_matrix(X_test_select[['Helpfulness', 'Length_Helpfulness']].fillna(0).values)\n",
        "X_submission_help = csr_matrix(X_submission_select[['Helpfulness', 'Length_Helpfulness']].fillna(0).values)\n",
        "\n",
        "X_train_combined = hstack([X_train_text, X_train_help])\n",
        "X_test_combined = hstack([X_test_text, X_test_help])\n",
        "X_submission_combined = hstack([X_submission_text, X_submission_help])\n",
        "\n",
        "print(X_train_select.shape[1])\n",
        "\n"
      ]
    },
    {
      "cell_type": "markdown",
      "metadata": {
        "id": "HPnCwaD2ZJYH"
      },
      "source": [
        "# Model Creation"
      ]
    },
    {
      "cell_type": "code",
      "source": [
        "from sklearn.linear_model import SGDClassifier\n",
        "\n",
        "sgd_model = SGDClassifier(loss='log_loss', max_iter=1000, tol=1e-4, n_jobs=-1, random_state=47, class_weight='balanced')\n",
        "\n",
        "print(\"Training the SGDClassifier...\")\n",
        "sgd_model.fit(X_train_combined, Y_train)\n",
        "\n",
        "# 在测试集上进行预测\n",
        "print(\"Predicting on the test set...\")\n",
        "Y_test_predictions = sgd_model.predict(X_test_combined)"
      ],
      "metadata": {
        "colab": {
          "base_uri": "https://localhost:8080/"
        },
        "id": "ukGatN9F4L4I",
        "outputId": "09cd934e-f268-4c5f-bb7f-2b4921d61a8d"
      },
      "execution_count": 45,
      "outputs": [
        {
          "output_type": "stream",
          "name": "stdout",
          "text": [
            "Training the SGDClassifier...\n",
            "Predicting on the test set...\n"
          ]
        }
      ]
    },
    {
      "cell_type": "markdown",
      "metadata": {
        "id": "HVs4rkf9ZJYH"
      },
      "source": [
        "# Model Evaluation"
      ]
    },
    {
      "cell_type": "code",
      "execution_count": 46,
      "metadata": {
        "colab": {
          "base_uri": "https://localhost:8080/",
          "height": 490
        },
        "id": "7XaXC4jPZJYH",
        "outputId": "5dd4b721-95df-47e9-a0f9-9f166e47bba1"
      },
      "outputs": [
        {
          "output_type": "stream",
          "name": "stdout",
          "text": [
            "Accuracy on testing set =  0.6238904927074133\n"
          ]
        },
        {
          "output_type": "display_data",
          "data": {
            "text/plain": [
              "<Figure size 640x480 with 2 Axes>"
            ],
            "image/png": "[encoded data removed]"
          },
          "metadata": {}
        }
      ],
      "source": [
        "# Evaluate your model on the testing set\n",
        "print(\"Accuracy on testing set = \", accuracy_score(Y_test, Y_test_predictions))\n",
        "\n",
        "# Plot a confusion matrix\n",
        "cm = confusion_matrix(Y_test, Y_test_predictions, normalize='true')\n",
        "sns.heatmap(cm, annot=True)\n",
        "plt.title('Confusion matrix of the classifier')\n",
        "plt.xlabel('Predicted')\n",
        "plt.ylabel('True')\n",
        "plt.show()"
      ]
    },
    {
      "cell_type": "markdown",
      "metadata": {
        "id": "N-NZzAolZJYI"
      },
      "source": [
        "# Create submission file"
      ]
    },
    {
      "cell_type": "code",
      "execution_count": 47,
      "metadata": {
        "id": "y1FKGZggZJYI"
      },
      "outputs": [],
      "source": [
        "# Create the submission fdt_\n",
        "X_submission['Score'] = sgd_model.predict(X_submission_combined)\n",
        "submission = X_submission[['Id', 'Score']]\n",
        "submission.to_csv(\"/content/drive/My Drive/Midterm/submission.csv\", index=False)"
      ]
    }
  ],
  "metadata": {
    "kernelspec": {
      "display_name": "Python 3",
      "name": "python3"
    },
    "language_info": {
      "codemirror_mode": {
        "name": "ipython",
        "version": 3
      },
      "file_extension": ".py",
      "mimetype": "text/x-python",
      "name": "python",
      "nbconvert_exporter": "python",
      "pygments_lexer": "ipython3",
      "version": "3.12.3"
    },
    "colab": {
      "provenance": [],
      "machine_shape": "hm",
      "gpuType": "V28"
    },
    "accelerator": "TPU"
  },
  "nbformat": 4,
  "nbformat_minor": 0
}